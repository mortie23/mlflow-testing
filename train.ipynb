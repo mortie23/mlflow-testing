{
 "cells": [
  {
   "cell_type": "markdown",
   "source": [
    "# MLflow Training Tutorial\n",
    "\n",
    "This `train.pynb` Jupyter notebook predicts the quality of wine using [sklearn.linear_model.ElasticNet](http://scikit-learn.org/stable/modules/generated/sklearn.linear_model.ElasticNet.html).  \n",
    "\n",
    "> This is the Jupyter notebook version of the `train.py` example\n",
    "\n",
    "Attribution\n",
    "* The data set used in this example is from http://archive.ics.uci.edu/ml/datasets/Wine+Quality\n",
    "* P. Cortez, A. Cerdeira, F. Almeida, T. Matos and J. Reis.\n",
    "* Modeling wine preferences by data mining from physicochemical properties. In Decision Support Systems, Elsevier, 47(4):547-553, 2009.\n"
   ],
   "metadata": {}
  },
  {
   "cell_type": "code",
   "execution_count": 1,
   "source": [
    "# Wine Quality Sample\r\n",
    "def train(in_alpha, in_l1_ratio):\r\n",
    "    import os\r\n",
    "    import warnings\r\n",
    "    import sys\r\n",
    "\r\n",
    "    import pandas as pd\r\n",
    "    import numpy as np\r\n",
    "    from sklearn.metrics import mean_squared_error, mean_absolute_error, r2_score\r\n",
    "    from sklearn.model_selection import train_test_split\r\n",
    "    from sklearn.linear_model import ElasticNet\r\n",
    "\r\n",
    "    import mlflow\r\n",
    "    import mlflow.sklearn\r\n",
    "    \r\n",
    "    mlflow.set_tracking_uri(\"http://localhost:5000\")\r\n",
    "\r\n",
    "    import logging\r\n",
    "    logging.basicConfig(level=logging.WARN)\r\n",
    "    logger = logging.getLogger(__name__)\r\n",
    "\r\n",
    "    def eval_metrics(actual, pred):\r\n",
    "        rmse = np.sqrt(mean_squared_error(actual, pred))\r\n",
    "        mae = mean_absolute_error(actual, pred)\r\n",
    "        r2 = r2_score(actual, pred)\r\n",
    "        return rmse, mae, r2\r\n",
    "\r\n",
    "\r\n",
    "    warnings.filterwarnings(\"ignore\")\r\n",
    "    np.random.seed(40)\r\n",
    "\r\n",
    "    # Read the wine-quality csv file from the URL\r\n",
    "    csv_url =\\\r\n",
    "        'http://archive.ics.uci.edu/ml/machine-learning-databases/wine-quality/winequality-red.csv'\r\n",
    "    try:\r\n",
    "        data = pd.read_csv(csv_url, sep=';')\r\n",
    "    except Exception as e:\r\n",
    "        logger.exception(\r\n",
    "            \"Unable to download training & test CSV, check your internet connection. Error: %s\", e)\r\n",
    "\r\n",
    "    # Split the data into training and test sets. (0.75, 0.25) split.\r\n",
    "    train, test = train_test_split(data)\r\n",
    "\r\n",
    "    # The predicted column is \"quality\" which is a scalar from [3, 9]\r\n",
    "    train_x = train.drop([\"quality\"], axis=1)\r\n",
    "    test_x = test.drop([\"quality\"], axis=1)\r\n",
    "    train_y = train[[\"quality\"]]\r\n",
    "    test_y = test[[\"quality\"]]\r\n",
    "\r\n",
    "    # Set default values if no alpha is provided\r\n",
    "    if float(in_alpha) is None:\r\n",
    "        alpha = 0.5\r\n",
    "    else:\r\n",
    "        alpha = float(in_alpha)\r\n",
    "\r\n",
    "    # Set default values if no l1_ratio is provided\r\n",
    "    if float(in_l1_ratio) is None:\r\n",
    "        l1_ratio = 0.5\r\n",
    "    else:\r\n",
    "        l1_ratio = float(in_l1_ratio)\r\n",
    "\r\n",
    "    # Useful for multiple runs (only doing one run in this sample notebook)    \r\n",
    "    with mlflow.start_run():\r\n",
    "        # Execute ElasticNet\r\n",
    "        lr = ElasticNet(alpha=alpha, l1_ratio=l1_ratio, random_state=42)\r\n",
    "        lr.fit(train_x, train_y)\r\n",
    "\r\n",
    "        # Evaluate Metrics\r\n",
    "        predicted_qualities = lr.predict(test_x)\r\n",
    "        (rmse, mae, r2) = eval_metrics(test_y, predicted_qualities)\r\n",
    "\r\n",
    "        # Print out metrics\r\n",
    "        print(\"Elasticnet model (alpha=%f, l1_ratio=%f):\" % (alpha, l1_ratio))\r\n",
    "        print(\"  RMSE: %s\" % rmse)\r\n",
    "        print(\"  MAE: %s\" % mae)\r\n",
    "        print(\"  R2: %s\" % r2)\r\n",
    "\r\n",
    "        # Log parameter, metrics, and model to MLflow\r\n",
    "        mlflow.log_param(\"alpha\", alpha)\r\n",
    "        mlflow.log_param(\"l1_ratio\", l1_ratio)\r\n",
    "        mlflow.log_metric(\"rmse\", rmse)\r\n",
    "        mlflow.log_metric(\"r2\", r2)\r\n",
    "        mlflow.log_metric(\"mae\", mae)\r\n",
    "\r\n",
    "        mlflow.sklearn.log_model(lr, \"model\")"
   ],
   "outputs": [],
   "metadata": {}
  },
  {
   "cell_type": "code",
   "execution_count": 2,
   "source": [
    "train(0.5, 0.5)"
   ],
   "outputs": [
    {
     "output_type": "stream",
     "name": "stdout",
     "text": [
      "Elasticnet model (alpha=0.500000, l1_ratio=0.500000):\n",
      "  RMSE: 0.7931640229276851\n",
      "  MAE: 0.6271946374319586\n",
      "  R2: 0.10862644997792614\n"
     ]
    }
   ],
   "metadata": {}
  },
  {
   "cell_type": "code",
   "execution_count": 7,
   "source": [
    "train(0.2, 0.2)"
   ],
   "outputs": [
    {
     "output_type": "stream",
     "name": "stdout",
     "text": [
      "Elasticnet model (alpha=0.200000, l1_ratio=0.200000):\n",
      "  RMSE: 0.7336400911821402\n",
      "  MAE: 0.5643841279275428\n",
      "  R2: 0.23739466063584158\n"
     ]
    }
   ],
   "metadata": {}
  },
  {
   "cell_type": "code",
   "execution_count": 5,
   "source": [
    "train(0.1, 0.1)"
   ],
   "outputs": [
    {
     "output_type": "stream",
     "name": "stdout",
     "text": [
      "Elasticnet model (alpha=0.100000, l1_ratio=0.100000):\n",
      "  RMSE: 0.7128829045893679\n",
      "  MAE: 0.5462202174984664\n",
      "  R2: 0.2799376066653344\n"
     ]
    }
   ],
   "metadata": {}
  },
  {
   "cell_type": "code",
   "execution_count": 6,
   "source": [
    "train(0.3, 0.3)"
   ],
   "outputs": [
    {
     "output_type": "stream",
     "name": "stdout",
     "text": [
      "Elasticnet model (alpha=0.300000, l1_ratio=0.300000):\n",
      "  RMSE: 0.7443224557281489\n",
      "  MAE: 0.5754825491733004\n",
      "  R2: 0.2150247343683439\n"
     ]
    }
   ],
   "metadata": {}
  },
  {
   "cell_type": "code",
   "execution_count": null,
   "source": [],
   "outputs": [],
   "metadata": {}
  }
 ],
 "metadata": {
  "kernelspec": {
   "name": "python3",
   "display_name": "Python 3.8.10 64-bit ('psvenv': venv)"
  },
  "language_info": {
   "codemirror_mode": {
    "name": "ipython",
    "version": 3
   },
   "file_extension": ".py",
   "mimetype": "text/x-python",
   "name": "python",
   "nbconvert_exporter": "python",
   "pygments_lexer": "ipython3",
   "version": "3.8.10"
  },
  "interpreter": {
   "hash": "ccdfa9ec45af4309e6ec47ce4b386da088a9911d2e1c694cbce5a61cbf8019aa"
  }
 },
 "nbformat": 4,
 "nbformat_minor": 2
}